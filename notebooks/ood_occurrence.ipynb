{
 "cells": [
  {
   "cell_type": "code",
   "outputs": [],
   "source": [
    "import random\n",
    "A = [ random.sample(range(1000000), k=600), random.sample(range(1000000), k=600*2) , random.sample(range(1000000), k=600*4), random.sample(range(1000000), k=600*8),random.sample(range(1000000), k=600*64), random.sample(range(1000000), k=600*(64*2))]\n",
    "# for i in range(0,4):\n",
    "#     A.append(random.sample(range(999999999), k=100000))"
   ],
   "metadata": {
    "collapsed": false,
    "ExecuteTime": {
     "end_time": "2024-02-28T19:15:55.874061Z",
     "start_time": "2024-02-28T19:15:55.773393Z"
    }
   },
   "id": "1e5215575e19dd44",
   "execution_count": 132
  },
  {
   "cell_type": "code",
   "execution_count": 136,
   "id": "initial_id",
   "metadata": {
    "collapsed": true,
    "ExecuteTime": {
     "end_time": "2024-02-28T19:23:52.892260Z",
     "start_time": "2024-02-28T19:23:52.854459Z"
    }
   },
   "outputs": [
    {
     "name": "stdout",
     "output_type": "stream",
     "text": [
      "duration 0.0000868\n",
      "duration 0.0001769\n",
      "duration 0.0003848\n",
      "duration 0.0008621\n",
      "duration 0.0093160\n",
      "duration 0.0199828\n"
     ]
    }
   ],
   "source": [
    "import time\n",
    "import math\n",
    "# def solution(A):\n",
    "#     num = []\n",
    "#     if A:\n",
    "#         for i,v in enumerate(A):\n",
    "#             if v not in num:\n",
    "#                 num.append(v)\n",
    "#             else:\n",
    "#                 num.remove(v)\n",
    "#         return num[0]\n",
    "def solution(A):\n",
    "    A.sort()  # This is O(n log n)\n",
    "    A.append(-1)  # Append a non-pair element to handle boundary condition\n",
    "    for i in range(0, len(A) - 1, 2):  # Iterate over the list: O(n)\n",
    "        if A[i] != A[i + 1]:\n",
    "            return A[i]\n",
    "\n",
    "time_totals = []\n",
    "for i,v in enumerate(A):\n",
    "    start = time.time()\n",
    "    solution(v)\n",
    "    end = time.time()\n",
    "    duration = format(end - start, '.7f')\n",
    "    print(f'duration {duration}')\n",
    "    time_totals.append(duration)"
   ]
  },
  {
   "cell_type": "code",
   "outputs": [
    {
     "data": {
      "text/plain": "array(['0.0000868', '0.0001769', '0.0003848', '0.0008621', '0.0093160',\n       '0.0199828'], dtype='<U9')"
     },
     "execution_count": 137,
     "metadata": {},
     "output_type": "execute_result"
    }
   ],
   "source": [
    "import numpy as np\n",
    "time_totals = np.array(time_totals)\n",
    "time_totals"
   ],
   "metadata": {
    "collapsed": false,
    "ExecuteTime": {
     "end_time": "2024-02-28T19:23:56.213092Z",
     "start_time": "2024-02-28T19:23:56.207109Z"
    }
   },
   "id": "7713757d849eeb24",
   "execution_count": 137
  },
  {
   "cell_type": "code",
   "outputs": [
    {
     "data": {
      "text/plain": "<Figure size 640x480 with 1 Axes>",
      "image/png": "[encoded data removed]"
     },
     "metadata": {},
     "output_type": "display_data"
    }
   ],
   "source": [
    "import matplotlib.pyplot as plt\n",
    "\n",
    "time_totals = np.array(time_totals, dtype=float)\n",
    "\n",
    "plt.plot(time_totals)\n",
    "plt.show()"
   ],
   "metadata": {
    "collapsed": false,
    "ExecuteTime": {
     "end_time": "2024-02-28T19:23:56.758319Z",
     "start_time": "2024-02-28T19:23:56.623489Z"
    }
   },
   "id": "d80ab6fb3c08a2a4",
   "execution_count": 138
  },
  {
   "cell_type": "markdown",
   "source": [
    "Task description\n",
    "-----\n",
    "A non-empty array A consisting of N integers is given. The array contains an odd number of elements, and each element of the array can be paired with another element that has the same value, except for one element that is left unpaired.\n",
    "\n",
    "For example, in array A such that:\n",
    "\n",
    "  A[0] = 9  A[1] = 3  A[2] = 9\n",
    "  A[3] = 3  A[4] = 9  A[5] = 7\n",
    "  A[6] = 9\n",
    "the elements at indexes 0 and 2 have value 9,\n",
    "the elements at indexes 1 and 3 have value 3,\n",
    "the elements at indexes 4 and 6 have value 9,\n",
    "the element at index 5 has value 7 and is unpaired.\n",
    "Write a function:\n",
    "\n",
    "def solution(A)\n",
    "\n",
    "that, given an array A consisting of N integers fulfilling the above conditions, returns the value of the unpaired element.\n",
    "\n",
    "For example, given array A such that:\n",
    "\n",
    "  A[0] = 9  A[1] = 3  A[2] = 9\n",
    "  A[3] = 3  A[4] = 9  A[5] = 7\n",
    "  A[6] = 9\n",
    "the function should return 7, as explained in the example above.\n",
    "\n",
    "Write an efficient algorithm for the following assumptions:\n",
    "\n",
    "N is an odd integer within the range [1..1,000,000];\n",
    "each element of array A is an integer within the range [1..1,000,000,000];\n",
    "all but one of the values in A occur an even number of times."
   ],
   "metadata": {
    "collapsed": false
   },
   "id": "78b29a2188ac7e03"
  },
  {
   "cell_type": "code",
   "outputs": [],
   "source": [],
   "metadata": {
    "collapsed": false
   },
   "id": "ad0e2de70dc4ed09"
  }
 ],
 "metadata": {
  "kernelspec": {
   "display_name": "Python 3",
   "language": "python",
   "name": "python3"
  },
  "language_info": {
   "codemirror_mode": {
    "name": "ipython",
    "version": 2
   },
   "file_extension": ".py",
   "mimetype": "text/x-python",
   "name": "python",
   "nbconvert_exporter": "python",
   "pygments_lexer": "ipython2",
   "version": "2.7.6"
  }
 },
 "nbformat": 4,
 "nbformat_minor": 5
}
