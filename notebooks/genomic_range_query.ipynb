{
 "cells": [
  {
   "cell_type": "markdown",
   "source": [
    "A DNA sequence can be represented as a string consisting of the letters A, C, G and T, which correspond to the types of successive nucleotides in the sequence. Each nucleotide has an impact factor, which is an integer. Nucleotides of types A, C, G and T have impact factors of 1, 2, 3 and 4, respectively. You are going to answer several queries of the form: What is the minimal impact factor of nucleotides contained in a particular part of the given DNA sequence?\n",
    "\n",
    "The DNA sequence is given as a non-empty string S = S[0]S[1]...S[N-1] consisting of N characters. There are M queries, which are given in non-empty arrays P and Q, each consisting of M integers. The K-th query (0 ≤ K < M) requires you to find the minimal impact factor of nucleotides contained in the DNA sequence between positions P[K] and Q[K] (inclusive).\n",
    "\n",
    "For example, consider string S = CAGCCTA and arrays P, Q such that:\n",
    "\n",
    "    P[0] = 2    Q[0] = 4\n",
    "    P[1] = 5    Q[1] = 5\n",
    "    P[2] = 0    Q[2] = 6\n",
    "The answers to these M = 3 queries are as follows:\n",
    "\n",
    "The part of the DNA between positions 2 and 4 contains nucleotides G and C (twice), whose impact factors are 3 and 2 respectively, so the answer is 2.\n",
    "The part between positions 5 and 5 contains a single nucleotide T, whose impact factor is 4, so the answer is 4.\n",
    "The part between positions 0 and 6 (the whole string) contains all nucleotides, in particular nucleotide A whose impact factor is 1, so the answer is 1.\n",
    "Write a function:\n",
    "\n",
    "def solution(S, P, Q)\n",
    "\n",
    "that, given a non-empty string S consisting of N characters and two non-empty arrays P and Q consisting of M integers, returns an array consisting of M integers specifying the consecutive answers to all queries.\n",
    "\n",
    "Result array should be returned as an array of integers.\n",
    "\n",
    "For example, given the string S = CAGCCTA and arrays P, Q such that:\n",
    "\n",
    "    P[0] = 2    Q[0] = 4\n",
    "    P[1] = 5    Q[1] = 5\n",
    "    P[2] = 0    Q[2] = 6\n",
    "the function should return the values [2, 4, 1], as explained above.\n",
    "\n",
    "Write an efficient algorithm for the following assumptions:\n",
    "\n",
    "N is an integer within the range [1..100,000];\n",
    "M is an integer within the range [1..50,000];\n",
    "each element of arrays P and Q is an integer within the range [0..N - 1];\n",
    "P[K] ≤ Q[K], where 0 ≤ K < M;\n",
    "string S consists only of upper-case English letters A, C, G, T."
   ],
   "metadata": {
    "collapsed": false
   },
   "id": "f00e5ee39f4c1147"
  },
  {
   "cell_type": "code",
   "outputs": [],
   "source": [
    "\n",
    "import os\n",
    "import sys\n",
    "\n",
    "# Loading local helper modules\n",
    "module_path = os.path.abspath(os.path.join('..'))\n",
    "if module_path not in sys.path:\n",
    "    sys.path.append(module_path)"
   ],
   "metadata": {
    "collapsed": false,
    "ExecuteTime": {
     "end_time": "2024-03-02T13:30:20.018027Z",
     "start_time": "2024-03-02T13:30:20.000365Z"
    }
   },
   "id": "4068e88b91d809f7",
   "execution_count": 1
  },
  {
   "cell_type": "code",
   "outputs": [],
   "source": [
    "import random\n",
    "\n",
    "perms = []\n",
    "for i in range(1, 32):\n",
    "    a = random.randint(0, 1999999999)\n",
    "    b = random.randint(0, 2000000000)\n",
    "    k = random.randint(1, 2000000000)\n",
    "    # values = random.sample(range(1, int(X + 1/2),2), int(X/2))\n",
    "    perms.append([a,b,k])"
   ],
   "metadata": {
    "collapsed": false,
    "ExecuteTime": {
     "end_time": "2024-03-02T13:30:21.821934Z",
     "start_time": "2024-03-02T13:30:21.810225Z"
    }
   },
   "id": "8846117bf9137072",
   "execution_count": 2
  },
  {
   "cell_type": "code",
   "outputs": [],
   "source": [
    "print(f'{perms[:5][0][1][2]}\\n')"
   ],
   "metadata": {
    "collapsed": false,
    "is_executing": true
   },
   "id": "48d9b0790058c567",
   "execution_count": null
  },
  {
   "cell_type": "code",
   "outputs": [],
   "source": [
    "def count_time(func, *args):\n",
    "    start = time.time()\n",
    "    func(*args)\n",
    "    end = time.time()\n",
    "    duration = format(end - start, '.7f')\n",
    "    return duration"
   ],
   "metadata": {
    "collapsed": false,
    "ExecuteTime": {
     "end_time": "2024-03-02T13:30:28.210092Z",
     "start_time": "2024-03-02T13:30:28.187483Z"
    }
   },
   "id": "b4cbc2ab9152168f",
   "execution_count": 3
  },
  {
   "cell_type": "code",
   "outputs": [],
   "source": [
    "import time\n",
    "from coded_solutions import min_bas_sum\n",
    "\n",
    "time_totals = [[], []]\n",
    "solution = [min_bas_sum.solution_1, min_bas_sum.min_abs_sum ]\n",
    "for i, v in enumerate(perms):\n",
    "    for y, s in enumerate(solution):\n",
    "        time_totals[y].append(count_time(s, v))"
   ],
   "metadata": {
    "collapsed": false,
    "is_executing": true,
    "ExecuteTime": {
     "start_time": "2024-03-02T13:31:19.449984Z"
    }
   },
   "id": "28d85caa30cc71bd",
   "execution_count": null
  },
  {
   "cell_type": "code",
   "outputs": [],
   "source": [
    "import numpy as np\n",
    "\n",
    "time_totals_imp = np.array(time_totals[0])\n",
    "time_totals_l = np.array(time_totals[1])\n"
   ],
   "metadata": {
    "collapsed": false,
    "is_executing": true
   },
   "id": "73d7639694b2fd63",
   "execution_count": null
  },
  {
   "cell_type": "code",
   "outputs": [],
   "source": [
    "import matplotlib.pyplot as plt\n",
    "\n",
    "plt.plot(time_totals_imp, label='imp')\n",
    "plt.plot(time_totals_l, label='l')\n",
    "plt.xlabel('Permutation')\n",
    "plt.ylabel('Time')\n",
    "plt.legend()\n",
    "plt.show()"
   ],
   "metadata": {
    "collapsed": false,
    "is_executing": true
   },
   "id": "d38638dcf6d822ae",
   "execution_count": null
  },
  {
   "cell_type": "code",
   "outputs": [],
   "source": [],
   "metadata": {
    "collapsed": false
   },
   "id": "7af586e8127a1cd4"
  }
 ],
 "metadata": {
  "kernelspec": {
   "display_name": "Python 3",
   "language": "python",
   "name": "python3"
  },
  "language_info": {
   "codemirror_mode": {
    "name": "ipython",
    "version": 2
   },
   "file_extension": ".py",
   "mimetype": "text/x-python",
   "name": "python",
   "nbconvert_exporter": "python",
   "pygments_lexer": "ipython2",
   "version": "2.7.6"
  }
 },
 "nbformat": 4,
 "nbformat_minor": 5
}
