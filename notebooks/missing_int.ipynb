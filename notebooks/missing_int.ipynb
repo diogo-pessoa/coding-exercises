{
 "cells": [
  {
   "cell_type": "markdown",
   "source": [
    "This is a demo task.\n",
    "\n",
    "Write a function:\n",
    "\n",
    "def solution(A)\n",
    "\n",
    "that, given an array A of N integers, returns the smallest positive integer (greater than 0) that does not occur in A.\n",
    "\n",
    "For example, given A = [1, 3, 6, 4, 1, 2], the function should return 5.\n",
    "\n",
    "Given A = [1, 2, 3], the function should return 4.\n",
    "\n",
    "Given A = [−1, −3], the function should return 1.\n",
    "\n",
    "Write an efficient algorithm for the following assumptions:\n",
    "\n",
    "N is an integer within the range [1..100,000];\n",
    "each element of array A is an integer within the range [−1,000,000..1,000,000]."
   ],
   "metadata": {
    "collapsed": false
   },
   "id": "f00e5ee39f4c1147"
  },
  {
   "cell_type": "code",
   "outputs": [],
   "source": [
    "import os\n",
    "import sys\n",
    "\n",
    "# Loading local helper modules\n",
    "module_path = os.path.abspath(os.path.join('..'))\n",
    "if module_path not in sys.path:\n",
    "    sys.path.append(module_path)"
   ],
   "metadata": {
    "collapsed": false,
    "ExecuteTime": {
     "end_time": "2024-03-01T19:08:47.607036Z",
     "start_time": "2024-03-01T19:08:47.590571Z"
    }
   },
   "id": "4068e88b91d809f7",
   "execution_count": 1
  },
  {
   "cell_type": "code",
   "outputs": [],
   "source": [
    "import random\n",
    "\n",
    "# N and M 1.. 1000000\n",
    "# n elements in A 1..N+1\n",
    "perms = []\n",
    "for i in range(1, 32):\n",
    "    X = random.randint(-1000000, 1000000)\n",
    "    values = random.sample(range(1,100000), 100)\n",
    "    perms.append(values)"
   ],
   "metadata": {
    "collapsed": false,
    "ExecuteTime": {
     "end_time": "2024-03-01T19:10:27.530168Z",
     "start_time": "2024-03-01T19:10:27.502744Z"
    }
   },
   "id": "8846117bf9137072",
   "execution_count": 8
  },
  {
   "cell_type": "code",
   "outputs": [
    {
     "name": "stdout",
     "output_type": "stream",
     "text": [
      "[[654, 96917, 44787, 94532, 73117, 35114, 41596, 54232, 95997, 60524, 13247, 5144, 84765, 92690, 21852, 32827, 73515, 87378, 93239, 67589, 93612, 62258, 35443, 39705, 39541, 32935, 3423, 53314, 84550, 50889, 41786, 88371, 83402, 82214, 92259, 93554, 58581, 16057, 43773, 18753, 6303, 89185, 55115, 60712, 25413, 2022, 42383, 64927, 89167, 79412, 42513, 3574, 87602, 7350, 52997, 29099, 35642, 58250, 55417, 38387, 81354, 50922, 68467, 665, 2585, 54280, 77294, 956, 56049, 91034, 40308, 80949, 97681, 96834, 25112, 15604, 45647, 19024, 56369, 20590, 56528, 90881, 90657, 82317, 63114, 38076, 31730, 81425, 58877, 91088, 83635, 3744, 56963, 40374, 23160, 66425, 29, 20466, 72454, 16726], [67444, 14571, 71051, 17913, 1541, 65388, 67527, 52120, 92715, 62367, 20704, 26616, 32733, 31326, 69966, 50983, 2784, 50279, 43829, 68228, 66284, 20754, 45807, 23194, 93056, 42651, 60483, 84504, 1595, 98621, 76431, 57083, 38465, 22270, 10804, 87497, 6678, 26953, 77170, 29781, 68832, 13429, 21973, 98209, 8839, 14720, 25964, 55771, 29915, 53496, 43258, 36793, 97950, 71370, 43164, 3088, 29602, 34260, 49715, 7755, 94795, 36582, 82347, 86714, 95143, 87039, 38617, 82400, 1605, 69497, 68662, 27632, 6021, 97069, 54291, 93977, 43920, 70644, 82873, 82437, 18430, 45078, 86706, 4431, 77403, 89443, 64784, 99198, 38124, 64814, 65732, 49747, 22483, 76840, 28790, 83080, 60062, 19133, 41021, 55182], [50562, 65065, 23081, 1137, 37190, 15672, 2542, 64398, 32186, 17015, 22480, 23075, 63813, 59299, 78529, 73578, 17330, 18017, 65516, 17282, 23290, 56194, 87838, 76720, 13337, 17256, 59876, 77005, 61072, 52647, 30953, 86054, 81396, 58299, 49526, 10718, 41027, 1219, 70130, 39593, 52834, 73569, 40862, 56214, 92514, 29956, 91223, 91066, 79682, 49492, 46541, 10959, 31593, 45758, 4115, 42065, 48020, 70032, 20385, 40077, 8855, 80150, 18120, 82623, 10131, 65048, 84697, 21511, 59440, 18134, 92867, 92139, 21073, 56890, 40523, 57659, 56862, 4093, 8497, 76609, 91500, 63095, 20078, 60400, 17048, 50111, 34679, 67959, 13022, 82785, 93996, 90157, 28331, 61568, 65127, 16233, 12663, 26184, 9353, 15305], [48153, 48938, 99240, 44679, 92048, 23325, 26352, 40259, 56235, 80225, 12911, 57302, 65292, 78006, 17201, 24009, 27029, 4983, 39005, 84047, 66767, 48844, 16125, 4016, 5085, 71031, 84845, 83668, 3998, 5273, 55938, 83890, 73220, 5861, 90505, 16453, 85628, 66566, 77439, 33882, 58556, 78360, 14839, 65228, 2232, 1342, 23208, 90073, 38813, 59495, 7036, 96574, 87108, 20622, 83273, 96115, 83120, 16921, 52458, 79300, 37395, 49464, 90122, 59655, 20276, 65974, 690, 249, 90649, 78347, 97421, 75339, 61193, 85240, 62746, 97437, 13883, 60220, 28357, 9422, 19847, 50552, 39628, 62272, 21120, 50601, 50024, 30214, 10784, 18259, 86027, 35289, 80247, 1712, 10981, 62420, 23944, 96734, 26645, 84890], [78124, 34879, 97473, 47086, 6059, 17932, 63270, 59760, 44975, 688, 64259, 82378, 30551, 75016, 26570, 30089, 18263, 34367, 22536, 88371, 50106, 42232, 61769, 55671, 78403, 76104, 4863, 27193, 65060, 49512, 83719, 91581, 83496, 99077, 53934, 47735, 23127, 52553, 41760, 41553, 29342, 32344, 79316, 84042, 38182, 95990, 95595, 83565, 22846, 67299, 42967, 28447, 27054, 13714, 90545, 34682, 73807, 94222, 83259, 24849, 4325, 14005, 85386, 38315, 61923, 79968, 74744, 30671, 2262, 5053, 44369, 29079, 2449, 99808, 65400, 29363, 63607, 51408, 78948, 7265, 62956, 86416, 62007, 72582, 53959, 36173, 16618, 61183, 11123, 4971, 14848, 27555, 91711, 38276, 19781, 21027, 13063, 7473, 23340, 3243]]\n"
     ]
    }
   ],
   "source": [
    "print(f'{perms[:5]}\\n')"
   ],
   "metadata": {
    "collapsed": false,
    "ExecuteTime": {
     "end_time": "2024-03-01T19:10:29.224483Z",
     "start_time": "2024-03-01T19:10:29.183276Z"
    }
   },
   "id": "48d9b0790058c567",
   "execution_count": 9
  },
  {
   "cell_type": "code",
   "outputs": [],
   "source": [
    "def count_time(func, *args):\n",
    "    start = time.time()\n",
    "    func(*args)\n",
    "    end = time.time()\n",
    "    duration = format(end - start, '.7f')\n",
    "    return duration"
   ],
   "metadata": {
    "collapsed": false,
    "ExecuteTime": {
     "end_time": "2024-03-01T19:10:37.684154Z",
     "start_time": "2024-03-01T19:10:37.663823Z"
    }
   },
   "id": "b4cbc2ab9152168f",
   "execution_count": 10
  },
  {
   "cell_type": "code",
   "outputs": [],
   "source": [
    "import time\n",
    "from coded_solutions import missing_int\n",
    "\n",
    "time_totals = [[], []]\n",
    "solution = [missing_int.solution_1() ]\n",
    "for i, v in enumerate(perms):\n",
    "    for y, s in enumerate(solution):\n",
    "        time_totals[y].append(count_time(s, v[0],v[1]))"
   ],
   "metadata": {
    "collapsed": false,
    "is_executing": true
   },
   "id": "28d85caa30cc71bd",
   "execution_count": null
  },
  {
   "cell_type": "code",
   "outputs": [],
   "source": [
    "import numpy as np\n",
    "\n",
    "time_totals_imp = np.array(time_totals[0])\n",
    "time_totals_l = np.array(time_totals[1])\n"
   ],
   "metadata": {
    "collapsed": false,
    "is_executing": true
   },
   "id": "73d7639694b2fd63",
   "execution_count": null
  },
  {
   "cell_type": "code",
   "outputs": [],
   "source": [
    "import matplotlib.pyplot as plt\n",
    "\n",
    "plt.plot(time_totals_imp, label='imp')\n",
    "plt.plot(time_totals_l, label='l')\n",
    "plt.xlabel('Permutation')\n",
    "plt.ylabel('Time')\n",
    "plt.legend()\n",
    "plt.show()"
   ],
   "metadata": {
    "collapsed": false,
    "is_executing": true
   },
   "id": "d38638dcf6d822ae",
   "execution_count": null
  }
 ],
 "metadata": {
  "kernelspec": {
   "display_name": "Python 3",
   "language": "python",
   "name": "python3"
  },
  "language_info": {
   "codemirror_mode": {
    "name": "ipython",
    "version": 2
   },
   "file_extension": ".py",
   "mimetype": "text/x-python",
   "name": "python",
   "nbconvert_exporter": "python",
   "pygments_lexer": "ipython2",
   "version": "2.7.6"
  }
 },
 "nbformat": 4,
 "nbformat_minor": 5
}
