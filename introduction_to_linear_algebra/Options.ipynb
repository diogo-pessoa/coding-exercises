{
 "cells": [
  {
   "cell_type": "code",
   "id": "initial_id",
   "metadata": {
    "collapsed": true,
    "ExecuteTime": {
     "end_time": "2024-07-15T13:48:14.236141Z",
     "start_time": "2024-07-15T13:45:04.926125Z"
    }
   },
   "source": [
    "\n",
    "from scipy.stats import norm"
   ],
   "outputs": [],
   "execution_count": 2
  },
  {
   "metadata": {
    "ExecuteTime": {
     "end_time": "2024-07-15T15:02:59.472466Z",
     "start_time": "2024-07-15T15:02:59.459077Z"
    }
   },
   "cell_type": "code",
   "source": [
    "def black_scholes_put(current_price, strike, time_to_expiry, risk, sigma_volatility, contracts):\n",
    "    \"\"\"Calculates the price of a put option using the Black-Scholes model.\n",
    "\n",
    "    Args:\n",
    "        current_price: Current stock price\n",
    "        strike: Strike price\n",
    "        time_to_expiry: Time to expiration (in years)\n",
    "        risk: Risk-free interest rate\n",
    "        sigma_volatility: Volatility\n",
    "\n",
    "    Returns:\n",
    "        The price of the put option.\n",
    "    \"\"\"\n",
    "\n",
    "    d1 = (np.log(current_price / strike) + (risk + 0.5 * sigma_volatility ** 2) * time_to_expiry) / (\n",
    "            sigma_volatility * np.sqrt(time_to_expiry))\n",
    "    d2 = d1 - sigma_volatility * np.sqrt(time_to_expiry)\n",
    "\n",
    "    put_price = strike * np.exp(-risk * sigma_volatility) * norm.cdf(-d2) - current_price * norm.cdf(-d1)\n",
    "    delta = -norm.cdf(-d1)  # Negative sign for put options\n",
    "    profit = max(0, (strike - current_price) * contracts)  # Profit if exercised at current price\n",
    "    return put_price, delta, profit\n"
   ],
   "id": "655b9830de3b8ef6",
   "outputs": [],
   "execution_count": 35
  },
  {
   "metadata": {
    "ExecuteTime": {
     "end_time": "2024-07-15T15:03:00.844652Z",
     "start_time": "2024-07-15T15:03:00.822618Z"
    }
   },
   "cell_type": "code",
   "source": [
    "\"\"\"\n",
    "Binomial Tree Model\n",
    "\"\"\"\n",
    "\n",
    "import numpy as np\n",
    "\n",
    "\n",
    "def binomial_tree_american_put(S, K, T, r, sigma, N, contracts):\n",
    "    \"\"\"Calculates the price of an American put option using a binomial tree.\n",
    "\n",
    "    Args:\n",
    "        S: Current stock price\n",
    "        K: Strike price\n",
    "        T: Time to expiration (in years)\n",
    "        r: Risk-free interest rate\n",
    "        sigma: Volatility\n",
    "        N: Number of time steps in the binomial tree\n",
    "\n",
    "    Returns:\n",
    "        The price of the American put option.\n",
    "    \"\"\"\n",
    "    N = 50  # Adjust for desired accuracy\n",
    "    dt = T / N\n",
    "    u = np.exp(sigma * np.sqrt(dt))\n",
    "    d = 1 / u\n",
    "    p = (np.exp(r * dt) - d) / (u - d)\n",
    "\n",
    "    # Create stock price tree\n",
    "    stock_tree = np.zeros((N + 1, N + 1))\n",
    "    stock_tree[0, 0] = S\n",
    "    for i in range(1, N + 1):\n",
    "        stock_tree[i, 0] = stock_tree[i - 1, 0] * u\n",
    "        for j in range(1, i + 1):\n",
    "            stock_tree[i, j] = stock_tree[i - 1, j - 1] * d\n",
    "\n",
    "    # Calculate option values at expiration\n",
    "    option_tree = np.maximum(K - stock_tree, 0)\n",
    "\n",
    "    # Work backward through the tree, considering early exercise\n",
    "    for i in range(N - 1, -1, -1):\n",
    "        for j in range(i + 1):\n",
    "            option_tree[i, j] = max(\n",
    "                np.exp(-r * dt) * (p * option_tree[i + 1, j] + (1 - p) * option_tree[i + 1, j + 1]),\n",
    "                K - stock_tree[i, j]\n",
    "            )\n",
    "\n",
    "    delta = (option_tree[1, 1] - option_tree[1, 0]) / (stock_tree[1, 1] - stock_tree[1, 0])\n",
    "\n",
    "    profit = max(0, (strike - current_price) * contracts)  # Profit if exercised at current price\n",
    "\n",
    "    return option_tree[0, 0], delta, profit\n"
   ],
   "id": "87b788c76f772d67",
   "outputs": [],
   "execution_count": 36
  },
  {
   "metadata": {
    "ExecuteTime": {
     "end_time": "2024-07-15T15:30:01.203809Z",
     "start_time": "2024-07-15T15:30:01.127949Z"
    }
   },
   "cell_type": "code",
   "source": [
    "\n",
    "# Example usage - calculating the price before it reaches my strike price\n",
    "current_price = 128  # Current stock price at the time of exercise\n",
    "strike = 98 # Strike price\n",
    "time_to_expiry = 365  # 30/365 Remaining time to expiration (if applicable)\n",
    "risk = 0.008  # Risk-free interest rate\n",
    "sigma_volatility = 0.5\n",
    "contracts = 100\n",
    "premium_paid = 2.66  # Premium paid per contract\n",
    "N = 50  # Adjust for desired accuracy\n",
    "# put option price: 91.5405383687267\n",
    "# Black-Scholes Put Option Price: 91.5405383687267\n",
    "# Binomial Tree American Put Option Price: 65.0750230971521"
   ],
   "id": "4624b80592b6eb04",
   "outputs": [],
   "execution_count": 66
  },
  {
   "metadata": {
    "ExecuteTime": {
     "end_time": "2024-07-15T15:30:20.091526Z",
     "start_time": "2024-07-15T15:30:20.044838Z"
    }
   },
   "cell_type": "code",
   "source": [
    "put_price, delta_bs, profit = black_scholes_put(current_price, strike, time_to_expiry, risk, sigma_volatility,\n",
    "                                                contracts)\n",
    "print(\"Put option price:\", put_price)\n",
    "\n",
    "print(\"Black-Scholes Put Option Price:\", put_price)\n",
    "# Profit = (Strike Price - Current Stock Price) * Number of Contracts - Premium Paid\n",
    "put_price, delta_bt, profit = binomial_tree_american_put(current_price, strike, time_to_expiry, risk, sigma_volatility,\n",
    "                                                         N, contracts)\n",
    "print(\"Binomial Tree American Put Option Price:\", put_price)"
   ],
   "id": "e04a70fde535eb86",
   "outputs": [
    {
     "name": "stdout",
     "output_type": "stream",
     "text": [
      "Put option price: 97.60832857205732\n",
      "Black-Scholes Put Option Price: 97.60832857205732\n",
      "Binomial Tree American Put Option Price: 73.31141496830648\n"
     ]
    }
   ],
   "execution_count": 68
  },
  {
   "metadata": {
    "ExecuteTime": {
     "end_time": "2024-07-15T15:32:11.934350Z",
     "start_time": "2024-07-15T15:32:11.908865Z"
    }
   },
   "cell_type": "code",
   "source": [
    "f'{97 * 0.91:.4f}'\n",
    "f'{5.39 * 1.18:.4f}'"
   ],
   "id": "c04365e6207255c1",
   "outputs": [
    {
     "data": {
      "text/plain": [
       "'6.3602'"
      ]
     },
     "execution_count": 70,
     "metadata": {},
     "output_type": "execute_result"
    }
   ],
   "execution_count": 70
  },
  {
   "metadata": {
    "ExecuteTime": {
     "end_time": "2024-07-15T15:37:38.778033Z",
     "start_time": "2024-07-15T15:37:38.697908Z"
    }
   },
   "cell_type": "code",
   "source": [
    "# Example usage\n",
    "S = 70  # Current stock price at the time of exercise\n",
    "K = 88  # Strike price\n",
    "T = 365 / 365  # Remaining time to expiration (if applicable)\n",
    "r = 0.008\n",
    "sigma = 0.5\n",
    "contracts = 58\n",
    "premium_paid = 6.36  # Premium paid per contract\n",
    "N = 50  # Adjust for desired accuracy\n",
    "# Black-Scholes\n",
    "_, _, profit_bs = black_scholes_put(S, K, T, r, sigma, contracts)\n",
    "# premium_paid = premium_paid * contracts  # Total premium paid \n",
    "profit_bs_minus_paid = profit_bs - premium_paid * contracts  # Subtract the premium paid\n",
    "print(\"premium_paid:\", premium_paid * contracts +20)\n",
    "print(\"profit - premium_paid:\", profit_bs_minus_paid)\n",
    "\n",
    "print(\"Black-Scholes Profit if Exercised Now:\", profit_bs)\n",
    "\n",
    "# Binomial Tree\n",
    "\n",
    "_, _, profit_bt = binomial_tree_american_put(S, K, T, r, sigma, N, contracts)\n",
    "profit_bt -= premium_paid * contracts  # Subtract the premium paid\n",
    "print(\"Binomial Tree Profit if Exercised Now:\", profit_bt)"
   ],
   "id": "2c3cfac55fea642",
   "outputs": [
    {
     "name": "stdout",
     "output_type": "stream",
     "text": [
      "premium_paid: 388.88\n",
      "profit - premium_paid: 675.12\n",
      "Black-Scholes Profit if Exercised Now: 1044\n",
      "Binomial Tree Profit if Exercised Now: -368.88\n"
     ]
    }
   ],
   "execution_count": 77
  },
  {
   "metadata": {},
   "cell_type": "code",
   "outputs": [],
   "execution_count": null,
   "source": "",
   "id": "4484ab5c0760f29a"
  }
 ],
 "metadata": {
  "kernelspec": {
   "display_name": "Python 3",
   "language": "python",
   "name": "python3"
  },
  "language_info": {
   "codemirror_mode": {
    "name": "ipython",
    "version": 2
   },
   "file_extension": ".py",
   "mimetype": "text/x-python",
   "name": "python",
   "nbconvert_exporter": "python",
   "pygments_lexer": "ipython2",
   "version": "2.7.6"
  }
 },
 "nbformat": 4,
 "nbformat_minor": 5
}
