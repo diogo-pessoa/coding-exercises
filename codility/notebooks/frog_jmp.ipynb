{
 "cells": [
  {
   "cell_type": "markdown",
   "source": [],
   "metadata": {
    "collapsed": false
   },
   "id": "f28f33c1ec57bc30"
  },
  {
   "cell_type": "code",
   "outputs": [],
   "source": [
    "import random\n",
    "\n",
    "\n",
    "\"\"\"X, Y and D are integers within the range [1..1,000,000,000];\n",
    "X ≤ Y.\"\"\"\n",
    "A=[]\n",
    "# Y,D = random.sample(range(1, 1000000000), k=3)\n",
    "for i in range(0,4):\n",
    "    values = random.sample(range(1, 1000), k=3)\n",
    "    Y = max(values)\n",
    "    X = min(values)\n",
    "    D = [int(i*.10) for i in values if i != Y and i != X][0]\n",
    "    A.append([Y,X,D])\n",
    "A.append([85,10,30])"
   ],
   "metadata": {
    "collapsed": false,
    "ExecuteTime": {
     "end_time": "2024-02-28T20:47:51.534785Z",
     "start_time": "2024-02-28T20:47:51.529394Z"
    }
   },
   "id": "1e5215575e19dd44",
   "execution_count": 215
  },
  {
   "cell_type": "code",
   "outputs": [],
   "source": [
    "def solution_rec(Y, X, D, hop_count=1):\n",
    "    \"\"\"\n",
    "        Frog Jumps from X to Y, by hops of D, in least amount of jumps\n",
    "    :param Y: \n",
    "    :param X: \n",
    "    :param D: \n",
    "    :return: hop_count\n",
    "    \"\"\"\n",
    "    \n",
    "    if  X + D >= Y:\n",
    "        return hop_count +1\n",
    "    else:\n",
    "        return solution_rec(Y, X + D, D, hop_count + 1)\n",
    "    \n",
    "def solution_ite(Y,X,D):\n",
    "    return ((Y - X) + D - 1) // D\n"
   ],
   "metadata": {
    "collapsed": false,
    "ExecuteTime": {
     "end_time": "2024-02-28T20:47:52.300785Z",
     "start_time": "2024-02-28T20:47:52.296412Z"
    }
   },
   "id": "245f83b0eaf117e4",
   "execution_count": 216
  },
  {
   "cell_type": "code",
   "outputs": [
    {
     "data": {
      "text/plain": "3"
     },
     "execution_count": 217,
     "metadata": {},
     "output_type": "execute_result"
    }
   ],
   "source": [
    "solution_rec(85, 10, 30)\n",
    "solution_ite(85, 10, 30)"
   ],
   "metadata": {
    "collapsed": false,
    "ExecuteTime": {
     "end_time": "2024-02-28T20:47:53.548034Z",
     "start_time": "2024-02-28T20:47:53.542470Z"
    }
   },
   "id": "a445f55ff319a64d",
   "execution_count": 217
  },
  {
   "cell_type": "code",
   "execution_count": 218,
   "id": "initial_id",
   "metadata": {
    "collapsed": true,
    "ExecuteTime": {
     "end_time": "2024-02-28T20:47:55.460726Z",
     "start_time": "2024-02-28T20:47:55.455557Z"
    }
   },
   "outputs": [
    {
     "name": "stdout",
     "output_type": "stream",
     "text": [
      "duration 0.0000119\n",
      "25\n",
      "duration 0.0000041\n",
      "11\n",
      "duration 0.0000048\n",
      "15\n",
      "duration 0.0000038\n",
      "16\n",
      "duration 0.0000019\n",
      "4\n"
     ]
    }
   ],
   "source": [
    "import time\n",
    "import math\n",
    "time_totals = []\n",
    "for i,v in enumerate(A):\n",
    "    start = time.time()\n",
    "    solution_rec(v[0], v[1], v[2])\n",
    "    end = time.time()\n",
    "    duration = format(end - start, '.7f')\n",
    "    print(f'duration {duration}')\n",
    "    print(solution_rec(v[0], v[1], v[2]))\n",
    "    time_totals.append(duration)"
   ]
  },
  {
   "cell_type": "code",
   "outputs": [
    {
     "name": "stdout",
     "output_type": "stream",
     "text": [
      "duration 0.0000019\n",
      "25\n",
      "duration 0.0000021\n",
      "11\n",
      "duration 0.0000012\n",
      "15\n",
      "duration 0.0000019\n",
      "16\n",
      "duration 0.0000007\n",
      "4\n"
     ]
    }
   ],
   "source": [
    "time_totals_ite = []\n",
    "for i,v in enumerate(A):\n",
    "    start = time.time()\n",
    "    solution_ite(v[0], v[1], v[2])\n",
    "    end = time.time()\n",
    "    duration = format(end - start, '.7f')\n",
    "    print(f'duration {duration}')\n",
    "    print(solution_rec(v[0], v[1], v[2]))\n",
    "    time_totals_ite.append(duration)"
   ],
   "metadata": {
    "collapsed": false,
    "ExecuteTime": {
     "end_time": "2024-02-28T20:47:57.812287Z",
     "start_time": "2024-02-28T20:47:57.806516Z"
    }
   },
   "id": "f65c8b361652025b",
   "execution_count": 219
  },
  {
   "cell_type": "code",
   "outputs": [
    {
     "data": {
      "text/plain": "array([1.19e-05, 4.10e-06, 4.80e-06, 3.80e-06, 1.90e-06])"
     },
     "execution_count": 225,
     "metadata": {},
     "output_type": "execute_result"
    }
   ],
   "source": [
    "import numpy as np\n",
    "time_totals = np.array(time_totals)\n",
    "time_totals\n",
    "time_totals_ite = np.array(time_totals_ite)\n",
    "time_totals"
   ],
   "metadata": {
    "collapsed": false,
    "ExecuteTime": {
     "end_time": "2024-02-28T20:49:10.108518Z",
     "start_time": "2024-02-28T20:49:10.103681Z"
    }
   },
   "id": "7713757d849eeb24",
   "execution_count": 225
  },
  {
   "cell_type": "code",
   "outputs": [
    {
     "data": {
      "text/plain": "array(['0.0000019', '0.0000021', '0.0000012', '0.0000019', '0.0000007'],\n      dtype='<U9')"
     },
     "execution_count": 226,
     "metadata": {},
     "output_type": "execute_result"
    }
   ],
   "source": [
    "time_totals_ite"
   ],
   "metadata": {
    "collapsed": false,
    "ExecuteTime": {
     "end_time": "2024-02-28T20:49:13.368682Z",
     "start_time": "2024-02-28T20:49:13.362305Z"
    }
   },
   "id": "15a37755805627ef",
   "execution_count": 226
  },
  {
   "cell_type": "code",
   "outputs": [
    {
     "data": {
      "text/plain": "<Figure size 640x480 with 1 Axes>",
      "image/png": "[encoded data removed]"
     },
     "metadata": {},
     "output_type": "display_data"
    }
   ],
   "source": [
    "import matplotlib.pyplot as plt\n",
    "\n",
    "time_totals = np.array(time_totals, dtype=float)\n",
    "\n",
    "plt.plot(time_totals)\n",
    "plt.plot(time_totals_ite)\n",
    "plt.show()"
   ],
   "metadata": {
    "collapsed": false,
    "ExecuteTime": {
     "end_time": "2024-02-28T20:49:45.262821Z",
     "start_time": "2024-02-28T20:49:45.132629Z"
    }
   },
   "id": "d80ab6fb3c08a2a4",
   "execution_count": 227
  },
  {
   "cell_type": "markdown",
   "source": [
    "Task description\n",
    "-----\n",
    "A non-empty array A consisting of N integers is given. The array contains an odd number of elements, and each element of the array can be paired with another element that has the same value, except for one element that is left unpaired.\n",
    "\n",
    "For example, in array A such that:\n",
    "\n",
    "  A[0] = 9  A[1] = 3  A[2] = 9\n",
    "  A[3] = 3  A[4] = 9  A[5] = 7\n",
    "  A[6] = 9\n",
    "the elements at indexes 0 and 2 have value 9,\n",
    "the elements at indexes 1 and 3 have value 3,\n",
    "the elements at indexes 4 and 6 have value 9,\n",
    "the element at index 5 has value 7 and is unpaired.\n",
    "Write a function:\n",
    "\n",
    "def solution(A)\n",
    "\n",
    "that, given an array A consisting of N integers fulfilling the above conditions, returns the value of the unpaired element.\n",
    "\n",
    "For example, given array A such that:\n",
    "\n",
    "  A[0] = 9  A[1] = 3  A[2] = 9\n",
    "  A[3] = 3  A[4] = 9  A[5] = 7\n",
    "  A[6] = 9\n",
    "the function should return 7, as explained in the example above.\n",
    "\n",
    "Write an efficient algorithm for the following assumptions:\n",
    "\n",
    "N is an odd integer within the range [1..1,000,000];\n",
    "each element of array A is an integer within the range [1..1,000,000,000];\n",
    "all but one of the values in A occur an even number of times."
   ],
   "metadata": {
    "collapsed": false
   },
   "id": "78b29a2188ac7e03"
  },
  {
   "cell_type": "code",
   "outputs": [],
   "source": [],
   "metadata": {
    "collapsed": false
   },
   "id": "ad0e2de70dc4ed09",
   "execution_count": null
  }
 ],
 "metadata": {
  "kernelspec": {
   "display_name": "Python 3",
   "language": "python",
   "name": "python3"
  },
  "language_info": {
   "codemirror_mode": {
    "name": "ipython",
    "version": 2
   },
   "file_extension": ".py",
   "mimetype": "text/x-python",
   "name": "python",
   "nbconvert_exporter": "python",
   "pygments_lexer": "ipython2",
   "version": "2.7.6"
  }
 },
 "nbformat": 4,
 "nbformat_minor": 5
}
