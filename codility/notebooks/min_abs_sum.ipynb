{
 "cells": [
  {
   "cell_type": "markdown",
   "source": [
    "For a given array A of N integers and a sequence S of N integers from the set {−1, 1}, we define val(A, S) as follows:\n",
    "\n",
    "val(A, S) = |sum{ A[i]*S[i] for i = 0..N−1 }|\n",
    "\n",
    "(Assume that the sum of zero elements equals zero.)\n",
    "\n",
    "For a given array A, we are looking for such a sequence S that minimizes val(A,S).\n",
    "\n",
    "Write a function:\n",
    "\n",
    "def solution(A)\n",
    "\n",
    "that, given an array A of N integers, computes the minimum value of val(A,S) from all possible values of val(A,S) for all possible sequences S of N integers from the set {−1, 1}.\n",
    "\n",
    "For example, given array:\n",
    "\n",
    "  A[0] =  1\n",
    "  A[1] =  5\n",
    "  A[2] =  2\n",
    "  A[3] = -2\n",
    "your function should return 0, since for S = [−1, 1, −1, 1], val(A, S) = 0, which is the minimum possible value.\n",
    "\n",
    "Write an efficient algorithm for the following assumptions:\n",
    "\n",
    "N is an integer within the range [0..20,000];\n",
    "each element of array A is an integer within the range [−100..100]."
   ],
   "metadata": {
    "collapsed": false
   },
   "id": "f00e5ee39f4c1147"
  },
  {
   "cell_type": "code",
   "outputs": [],
   "source": [
    "\n",
    "import os\n",
    "import sys\n",
    "\n",
    "# Loading local helper modules\n",
    "module_path = os.path.abspath(os.path.join('..'))\n",
    "if module_path not in sys.path:\n",
    "    sys.path.append(module_path)"
   ],
   "metadata": {
    "collapsed": false,
    "ExecuteTime": {
     "end_time": "2024-03-02T13:30:20.018027Z",
     "start_time": "2024-03-02T13:30:20.000365Z"
    }
   },
   "id": "4068e88b91d809f7",
   "execution_count": 1
  },
  {
   "cell_type": "code",
   "outputs": [],
   "source": [
    "import random\n",
    "\n",
    "perms = []\n",
    "for i in range(1, 32):\n",
    "    a = random.randint(0, 1999999999)\n",
    "    b = random.randint(0, 2000000000)\n",
    "    k = random.randint(1, 2000000000)\n",
    "    # values = random.sample(range(1, int(X + 1/2),2), int(X/2))\n",
    "    perms.append([a,b,k])"
   ],
   "metadata": {
    "collapsed": false,
    "ExecuteTime": {
     "end_time": "2024-03-02T13:30:21.821934Z",
     "start_time": "2024-03-02T13:30:21.810225Z"
    }
   },
   "id": "8846117bf9137072",
   "execution_count": 2
  },
  {
   "cell_type": "code",
   "outputs": [],
   "source": [
    "print(f'{perms[:5][0][1][2]}\\n')"
   ],
   "metadata": {
    "collapsed": false,
    "is_executing": true
   },
   "id": "48d9b0790058c567",
   "execution_count": null
  },
  {
   "cell_type": "code",
   "outputs": [],
   "source": [
    "def count_time(func, *args):\n",
    "    start = time.time()\n",
    "    func(*args)\n",
    "    end = time.time()\n",
    "    duration = format(end - start, '.7f')\n",
    "    return duration"
   ],
   "metadata": {
    "collapsed": false,
    "ExecuteTime": {
     "end_time": "2024-03-02T13:30:28.210092Z",
     "start_time": "2024-03-02T13:30:28.187483Z"
    }
   },
   "id": "b4cbc2ab9152168f",
   "execution_count": 3
  },
  {
   "cell_type": "code",
   "outputs": [],
   "source": [
    "import time\n",
    "from coded_solutions import min_bas_sum\n",
    "\n",
    "time_totals = [[], []]\n",
    "solution = [min_bas_sum.solution_1, min_bas_sum.min_abs_sum ]\n",
    "for i, v in enumerate(perms):\n",
    "    for y, s in enumerate(solution):\n",
    "        time_totals[y].append(count_time(s, v))"
   ],
   "metadata": {
    "collapsed": false,
    "is_executing": true,
    "ExecuteTime": {
     "start_time": "2024-03-02T13:31:19.449984Z"
    }
   },
   "id": "28d85caa30cc71bd",
   "execution_count": null
  },
  {
   "cell_type": "code",
   "outputs": [],
   "source": [
    "import numpy as np\n",
    "\n",
    "time_totals_imp = np.array(time_totals[0])\n",
    "time_totals_l = np.array(time_totals[1])\n"
   ],
   "metadata": {
    "collapsed": false,
    "is_executing": true
   },
   "id": "73d7639694b2fd63",
   "execution_count": null
  },
  {
   "cell_type": "code",
   "outputs": [],
   "source": [
    "import matplotlib.pyplot as plt\n",
    "\n",
    "plt.plot(time_totals_imp, label='imp')\n",
    "plt.plot(time_totals_l, label='l')\n",
    "plt.xlabel('Permutation')\n",
    "plt.ylabel('Time')\n",
    "plt.legend()\n",
    "plt.show()"
   ],
   "metadata": {
    "collapsed": false,
    "is_executing": true
   },
   "id": "d38638dcf6d822ae",
   "execution_count": null
  },
  {
   "cell_type": "code",
   "outputs": [],
   "source": [],
   "metadata": {
    "collapsed": false
   },
   "id": "7af586e8127a1cd4"
  }
 ],
 "metadata": {
  "kernelspec": {
   "display_name": "Python 3",
   "language": "python",
   "name": "python3"
  },
  "language_info": {
   "codemirror_mode": {
    "name": "ipython",
    "version": 2
   },
   "file_extension": ".py",
   "mimetype": "text/x-python",
   "name": "python",
   "nbconvert_exporter": "python",
   "pygments_lexer": "ipython2",
   "version": "2.7.6"
  }
 },
 "nbformat": 4,
 "nbformat_minor": 5
}
