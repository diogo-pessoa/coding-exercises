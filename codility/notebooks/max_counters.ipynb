{
 "cells": [
  {
   "cell_type": "markdown",
   "source": [
    "You are given N counters, initially set to 0, and you have two possible operations on them:\n",
    "\n",
    "increase(X) − counter X is increased by 1,\n",
    "max counter − all counters are set to the maximum value of any counter.\n",
    "A non-empty array A of M integers is given. This array represents consecutive operations:\n",
    "\n",
    "if A[K] = X, such that 1 ≤ X ≤ N, then operation K is increase(X),\n",
    "if A[K] = N + 1 then operation K is max counter.\n",
    "For example, given integer N = 5 and array A such that:\n",
    "\n",
    "    A[0] = 3\n",
    "    A[1] = 4\n",
    "    A[2] = 4\n",
    "    A[3] = 6\n",
    "    A[4] = 1\n",
    "    A[5] = 4\n",
    "    A[6] = 4\n",
    "the values of the counters after each consecutive operation will be:\n",
    "\n",
    "    (0, 0, 1, 0, 0)\n",
    "    (0, 0, 1, 1, 0)\n",
    "    (0, 0, 1, 2, 0)\n",
    "    (2, 2, 2, 2, 2)\n",
    "    (3, 2, 2, 2, 2)\n",
    "    (3, 2, 2, 3, 2)\n",
    "    (3, 2, 2, 4, 2)\n",
    "The goal is to calculate the value of every counter after all operations.\n",
    "\n",
    "Write a function:\n",
    "\n",
    "def solution(N, A)\n",
    "\n",
    "that, given an integer N and a non-empty array A consisting of M integers, returns a sequence of integers representing the values of the counters.\n",
    "\n",
    "Result array should be returned as an array of integers.\n",
    "\n",
    "For example, given:\n",
    "\n",
    "    A[0] = 3\n",
    "    A[1] = 4\n",
    "    A[2] = 4\n",
    "    A[3] = 6\n",
    "    A[4] = 1\n",
    "    A[5] = 4\n",
    "    A[6] = 4\n",
    "the function should return [3, 2, 2, 4, 2], as explained above.\n",
    "\n",
    "Write an efficient algorithm for the following assumptions:\n",
    "\n",
    "N and M are integers within the range [1..100,000];\n",
    "each element of array A is an integer within the range [1..N + 1].\n"
   ],
   "metadata": {
    "collapsed": false
   },
   "id": "f00e5ee39f4c1147"
  },
  {
   "cell_type": "code",
   "outputs": [],
   "source": [
    "import os\n",
    "import sys\n",
    "\n",
    "# Loading local helper modules\n",
    "module_path = os.path.abspath(os.path.join('..'))\n",
    "if module_path not in sys.path:\n",
    "    sys.path.append(module_path)"
   ],
   "metadata": {
    "collapsed": false,
    "is_executing": true
   },
   "id": "4068e88b91d809f7",
   "execution_count": null
  },
  {
   "cell_type": "code",
   "outputs": [],
   "source": [
    "import random\n",
    "\n",
    "# N and M 1.. 1000000\n",
    "# n elements in A 1..N+1\n",
    "perms = []\n",
    "for i in range(1, 512, 2):\n",
    "    X = random.randint(1, 1000000)\n",
    "    values = random.sample(range(1, int(X + 1/2),2), int(X/2))\n",
    "    perms.append([X,values])"
   ],
   "metadata": {
    "collapsed": false,
    "is_executing": true
   },
   "id": "8846117bf9137072",
   "execution_count": null
  },
  {
   "cell_type": "code",
   "outputs": [],
   "source": [
    "print(perms[:10])"
   ],
   "metadata": {
    "collapsed": false,
    "is_executing": true
   },
   "id": "48d9b0790058c567"
  },
  {
   "cell_type": "code",
   "outputs": [],
   "source": [
    "def count_time(func, *args):\n",
    "    start = time.time()\n",
    "    func(*args)\n",
    "    end = time.time()\n",
    "    duration = format(end - start, '.7f')\n",
    "    return duration"
   ],
   "metadata": {
    "collapsed": false,
    "is_executing": true
   },
   "id": "b4cbc2ab9152168f",
   "execution_count": null
  },
  {
   "cell_type": "code",
   "outputs": [],
   "source": [
    "import time\n",
    "from coded_solutions import max_counters\n",
    "\n",
    "time_totals = [[], []]\n",
    "solution = [max_counters.solution_1, max_counters.solution_2]\n",
    "for i, v in enumerate(perms):\n",
    "    for y, s in enumerate(solution):\n",
    "        time_totals[y].append(count_time(s, v[0],v[1]))"
   ],
   "metadata": {
    "collapsed": false,
    "is_executing": true
   },
   "id": "28d85caa30cc71bd",
   "execution_count": null
  },
  {
   "cell_type": "code",
   "outputs": [],
   "source": [
    "import numpy as np\n",
    "\n",
    "time_totals_imp = np.array(time_totals[0])\n",
    "time_totals_l = np.array(time_totals[1])\n"
   ],
   "metadata": {
    "collapsed": false,
    "is_executing": true
   },
   "id": "73d7639694b2fd63",
   "execution_count": null
  },
  {
   "cell_type": "code",
   "outputs": [],
   "source": [
    "import matplotlib.pyplot as plt\n",
    "\n",
    "plt.plot(time_totals_imp, label='imp')\n",
    "plt.plot(time_totals_l, label='l')\n",
    "plt.xlabel('Permutation')\n",
    "plt.ylabel('Time')\n",
    "plt.legend()\n",
    "plt.show()"
   ],
   "metadata": {
    "collapsed": false,
    "is_executing": true
   },
   "id": "d38638dcf6d822ae",
   "execution_count": null
  }
 ],
 "metadata": {
  "kernelspec": {
   "display_name": "Python 3",
   "language": "python",
   "name": "python3"
  },
  "language_info": {
   "codemirror_mode": {
    "name": "ipython",
    "version": 2
   },
   "file_extension": ".py",
   "mimetype": "text/x-python",
   "name": "python",
   "nbconvert_exporter": "python",
   "pygments_lexer": "ipython2",
   "version": "2.7.6"
  }
 },
 "nbformat": 4,
 "nbformat_minor": 5
}
